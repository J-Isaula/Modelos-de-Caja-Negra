{
 "cells": [
  {
   "cell_type": "markdown",
   "metadata": {},
   "source": [
    "<img src=\"MCN.png\" width=\"190\" height=\"77\">\n",
    "<center>\n",
    "    <b>Redes Neuronales</b><br>\n",
    "<br><br>\n",
    "<b>Resultado 1:</b>\n",
    "<h1>Red Neural Recurrente (RNN)</h1>"
   ]
  },
  {
   "cell_type": "markdown",
   "metadata": {},
   "source": [
    "<center>\n",
    "Funciones para conjunto de datos de entranamiento\n",
    "<center>"
   ]
  },
  {
   "cell_type": "code",
   "execution_count": 251,
   "metadata": {},
   "outputs": [],
   "source": [
    "# *******************************************************************\n",
    "#      Comenzaremos cargando los paquetes que se necesitan\n",
    "# *******************************************************************\n",
    "import copy\n",
    "import random\n",
    "import sys \n",
    "import numpy as np\n",
    "from sklearn.preprocessing import MinMaxScaler\n",
    "import os\n",
    "import pandas as pd\n",
    "import matplotlib.pyplot as plt\n",
    "import torch\n",
    "\n",
    "def ventana_deslizante(ts, longitud):\n",
    "    X = []\n",
    "    Y = []\n",
    "\n",
    "    for i in range(longitud + 1, len(ts) + 1):\n",
    "        X.append(ts[i - (longitud + 1):i - 1])\n",
    "        Y.append([ts[i - 1]])\n",
    "\n",
    "    return X, Y\n",
    "# Función para obtener la serie de tiempo (ts)\n",
    "def ob_serie_tiempo():\n",
    "    df = pd.read_csv('SP500_Datos.csv')\n",
    "    ts = df['y'].astype(int).values.reshape(-1,1)[-7322:]\n",
    "    return ts\n",
    "\n",
    "# Función para obtener los datos de entrenamiento \n",
    "def obt_datos_entrenamiento(ts,longitud,long_test):\n",
    "    X,Y = ventana_deslizante(ts,longitud)\n",
    "    \n",
    "    X_entr, Y_entr, X_prueb, Y_prueb = X[0:-long_test],\\\n",
    "                                       Y[0:-long_test],\\\n",
    "                                       X[-long_test:],\\\n",
    "                                       Y[-long_test:]\n",
    "                                       \n",
    "    long_entr = round(len(ts)*0.7)\n",
    "    \n",
    "    X_entr, X_val, Y_entr, Y_val = X_entr[0:long_entr],\\\n",
    "                                   X_entr[long_entr:],\\\n",
    "                                   Y_entr[0:long_entr],\\\n",
    "                                   Y_entr[long_entr:]\n",
    "                                   \n",
    "    x_entr = torch.tensor(data = X_entr).float()\n",
    "    y_entr = torch.tensor(data = Y_entr).float()\n",
    "    \n",
    "    x_val = torch.tensor(data = X_val).float()\n",
    "    y_val = torch.tensor(data = Y_val).float()\n",
    "    \n",
    "    x_prueb = torch.tensor(data = X_prueb).float()\n",
    "    y_prueb = torch.tensor(data = Y_prueb).float()\n",
    "    \n",
    "    return x_entr, x_val, x_prueb,\\\n",
    "           y_entr.squeeze(1), y_val.squeeze(1), y_prueb.squeeze(1)"
   ]
  },
  {
   "cell_type": "markdown",
   "metadata": {},
   "source": [
    "<center>\n",
    "Clase para la Red Neuronal Recurrente (RNN)\n",
    "<center>"
   ]
  },
  {
   "cell_type": "code",
   "execution_count": 252,
   "metadata": {},
   "outputs": [],
   "source": [
    "import torch.nn as nn\n",
    "\n",
    "class RNN(nn.Module):\n",
    "\n",
    "    def __init__(self,\n",
    "                 hidden_size,\n",
    "                 in_size = 1,\n",
    "                 out_size = 1):\n",
    "        super(RNN, self).__init__()\n",
    "        self.rnn = nn.RNN(\n",
    "            input_size = in_size,\n",
    "            hidden_size = hidden_size,\n",
    "            batch_first = True)\n",
    "        self.fc = nn.Linear(hidden_size, out_size)\n",
    "        \n",
    "    def forward(self, x, h = None):\n",
    "        out, _ = self.rnn(x, h)\n",
    "        last_hidden_states = out[:, -1]\n",
    "        out = self.fc(last_hidden_states)\n",
    "        return out, last_hidden_states"
   ]
  },
  {
   "cell_type": "markdown",
   "metadata": {},
   "source": [
    "<center>\n",
    "Gráficamos la serie original\n",
    "<center>"
   ]
  },
  {
   "cell_type": "code",
   "execution_count": 253,
   "metadata": {},
   "outputs": [
    {
     "data": {
      "image/png": "[encoded data removed]",
      "text/plain": [
       "<Figure size 432x288 with 1 Axes>"
      ]
     },
     "metadata": {},
     "output_type": "display_data"
    }
   ],
   "source": [
    "plt.title('SP500 Precio Diario 1979-2008')\n",
    "plt.ylabel('Precio')\n",
    "plt.xlabel('Dias')\n",
    "plt.plot(ob_serie_tiempo())\n",
    "plt.show()"
   ]
  },
  {
   "cell_type": "markdown",
   "metadata": {},
   "source": [
    "<center>\n",
    "Parámetros\n",
    "<center>"
   ]
  },
  {
   "cell_type": "code",
   "execution_count": 254,
   "metadata": {},
   "outputs": [],
   "source": [
    "# PARAMETROS\n",
    "\n",
    "# Longitud de la ventana deslizante\n",
    "longitud = 240\n",
    "\n",
    "# Longitud del conjunto de datos de prueba\n",
    "long_ts_prueba = 1900\n",
    "\n",
    "# Tamaños ocultos de capas\n",
    "tam_oculto_cap = 30\n",
    "\n",
    "# Tasa de aprendizaje \n",
    "tasa_aprendizaje = 0.02\n",
    "\n",
    "# Epocas\n",
    "epochs_entrenamiento = 500"
   ]
  },
  {
   "cell_type": "markdown",
   "metadata": {},
   "source": [
    "<center>\n",
    "Datos de entrenamiento\n",
    "<center>"
   ]
  },
  {
   "cell_type": "code",
   "execution_count": 255,
   "metadata": {},
   "outputs": [
    {
     "name": "stdout",
     "output_type": "stream",
     "text": [
      "5125 : datos de entrenamiento \n",
      "1900 : datos de prueba \n"
     ]
    }
   ],
   "source": [
    "# Preparando conjunto de datos para entrenamiento\n",
    "ts = ob_serie_tiempo()\n",
    "scalador = MinMaxScaler()\n",
    "scalador_ts = scalador.fit_transform(ts)\n",
    "x_entr, x_val, x_prueb, y_entr, y_val, y_prueb = obt_datos_entrenamiento(scalador_ts,longitud,long_ts_prueba)\n",
    "print(len(x_entr), ': datos de entrenamiento ')\n",
    "print(len(x_prueb), ': datos de prueba ')"
   ]
  },
  {
   "cell_type": "markdown",
   "metadata": {},
   "source": [
    "<center>\n",
    "Creación del modelo\n",
    "<center>"
   ]
  },
  {
   "cell_type": "code",
   "execution_count": 256,
   "metadata": {},
   "outputs": [
    {
     "data": {
      "text/plain": [
       "RNN(\n",
       "  (rnn): RNN(1, 30, batch_first=True)\n",
       "  (fc): Linear(in_features=30, out_features=1, bias=True)\n",
       ")"
      ]
     },
     "execution_count": 256,
     "metadata": {},
     "output_type": "execute_result"
    }
   ],
   "source": [
    "modelo = RNN(hidden_size=tam_oculto_cap)\n",
    "modelo.train()"
   ]
  },
  {
   "cell_type": "markdown",
   "metadata": {},
   "source": [
    "<center>\n",
    "Entrenando los datos\n",
    "<center>"
   ]
  },
  {
   "cell_type": "code",
   "execution_count": 259,
   "metadata": {},
   "outputs": [
    {
     "name": "stdout",
     "output_type": "stream",
     "text": [
      "epoch 0 - Loss = 0.059739\n",
      "epoch 50 - Loss = 0.17426\n",
      "epoch 100 - Loss = 6.2e-05\n",
      "epoch 150 - Loss = 0.000899\n",
      "epoch 200 - Loss = 0.000625\n",
      "epoch 250 - Loss = 0.000422\n",
      "epoch 300 - Loss = 0.000298\n",
      "epoch 350 - Loss = 0.000223\n",
      "epoch 400 - Loss = 0.000177\n",
      "epoch 450 - Loss = 0.000149\n"
     ]
    }
   ],
   "source": [
    "random.seed(1)\n",
    "torch.manual_seed(1)\n",
    "\n",
    "# ENTRENAMIENTO\n",
    "optimizador  =torch.optim.Adam(params=modelo.parameters(),lr=tasa_aprendizaje)\n",
    "mse_loss = torch.nn.MSELoss()\n",
    "\n",
    "best_model = None\n",
    "min_val_loss = sys.maxsize\n",
    "\n",
    "Entrenamiento_loss = []\n",
    "validacion_loss = []\n",
    "\n",
    "for epoch in range(epochs_entrenamiento):\n",
    "    prediction, _ = modelo(x_entr)\n",
    "    loss = mse_loss(prediction,y_entr)\n",
    "    \n",
    "    optimizador.zero_grad()\n",
    "    loss.backward()\n",
    "    optimizador.step()\n",
    "    \n",
    "    val_prediction, _ = modelo(x_val)\n",
    "    val_loss = mse_loss(val_prediction,y_val)\n",
    "    \n",
    "    Entrenamiento_loss.append(loss.item())\n",
    "    validacion_loss.append(validacion_loss)\n",
    "    \n",
    "    if val_loss.item() < min_val_loss:\n",
    "        best_model = copy.deepcopy(modelo)\n",
    "        min_val_loss = val_loss.item()\n",
    "        \n",
    "    if epoch % 50 == 0:\n",
    "        print(f'epoch {epoch} - '\n",
    "              f'Loss = {round(val_loss.item(), 6)}')\n",
    "        \n",
    "best_model.eval()\n",
    "_, h_list = best_model(x_val)"
   ]
  },
  {
   "cell_type": "code",
   "execution_count": 260,
   "metadata": {},
   "outputs": [],
   "source": [
    "# Estado Oculto\n",
    "h = (h_list[-1, :]).unsqueeze(-2)\n",
    "\n",
    "predicted = []\n",
    "for test_seq in x_prueb.tolist():\n",
    "    x = torch.Tensor(data = [test_seq])\n",
    "    # pasando el estado oculto a través de cada iteración\n",
    "    y, h = best_model(x, h.unsqueeze(-2))\n",
    "    unscaled = scalador.inverse_transform(np.array(y.item()).reshape(-1, 1))[0][0]\n",
    "    predicted.append(unscaled)\n",
    "real = scalador.inverse_transform(y_prueb.tolist())"
   ]
  },
  {
   "cell_type": "markdown",
   "metadata": {},
   "source": [
    "<center>\n",
    "Gráfico de comparación\n",
    "<center>"
   ]
  },
  {
   "cell_type": "code",
   "execution_count": 261,
   "metadata": {},
   "outputs": [
    {
     "data": {
      "image/png": "[encoded data removed]",
      "text/plain": [
       "<Figure size 432x288 with 1 Axes>"
      ]
     },
     "metadata": {},
     "output_type": "display_data"
    }
   ],
   "source": [
    "plt.title(\"Comparación\")\n",
    "plt.plot(real, label = 'Real')\n",
    "plt.plot(predicted, label = 'predicción')\n",
    "plt.legend()\n",
    "plt.show()"
   ]
  }
 ],
 "metadata": {
  "interpreter": {
   "hash": "cd78fef2128015050713e82ca51c6520b11aee7c9ee8df750520bbbc7384cbaa"
  },
  "kernelspec": {
   "display_name": "Python 3.8.3 ('base')",
   "language": "python",
   "name": "python3"
  },
  "language_info": {
   "codemirror_mode": {
    "name": "ipython",
    "version": 3
   },
   "file_extension": ".py",
   "mimetype": "text/x-python",
   "name": "python",
   "nbconvert_exporter": "python",
   "pygments_lexer": "ipython3",
   "version": "3.8.3"
  },
  "orig_nbformat": 4
 },
 "nbformat": 4,
 "nbformat_minor": 2
}
